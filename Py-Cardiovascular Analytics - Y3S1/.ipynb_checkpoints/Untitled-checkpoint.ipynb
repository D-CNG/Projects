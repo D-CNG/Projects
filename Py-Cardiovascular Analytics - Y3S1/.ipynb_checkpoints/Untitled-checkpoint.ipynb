{
 "cells": [
  {
   "cell_type": "markdown",
   "id": "3e6c9124",
   "metadata": {},
   "source": [
    "<h1> IMPORTS</h1>"
   ]
  },
  {
   "cell_type": "code",
   "execution_count": 1,
   "id": "b9b01f5b",
   "metadata": {},
   "outputs": [],
   "source": [
    "import csv\n",
    "import numpy as np\n",
    "import pandas as pd\n",
    "from scipy import stats as st\n",
    "import matplotlib as mpl\n",
    "import matplotlib.pyplot as plt"
   ]
  },
  {
   "cell_type": "markdown",
   "id": "978d8e25",
   "metadata": {},
   "source": [
    "<h1>Vapers Yearly 2013-2019</h1>"
   ]
  },
  {
   "cell_type": "code",
   "execution_count": 2,
   "id": "2e71cfa3",
   "metadata": {},
   "outputs": [
    {
     "data": {
      "text/html": [
       "<div>\n",
       "<style scoped>\n",
       "    .dataframe tbody tr th:only-of-type {\n",
       "        vertical-align: middle;\n",
       "    }\n",
       "\n",
       "    .dataframe tbody tr th {\n",
       "        vertical-align: top;\n",
       "    }\n",
       "\n",
       "    .dataframe thead th {\n",
       "        text-align: right;\n",
       "    }\n",
       "</style>\n",
       "<table border=\"1\" class=\"dataframe\">\n",
       "  <thead>\n",
       "    <tr style=\"text-align: right;\">\n",
       "      <th></th>\n",
       "      <th>Year</th>\n",
       "      <th>Number of People Vaping(million)</th>\n",
       "    </tr>\n",
       "  </thead>\n",
       "  <tbody>\n",
       "    <tr>\n",
       "      <th>0</th>\n",
       "      <td>2013</td>\n",
       "      <td>2.6</td>\n",
       "    </tr>\n",
       "    <tr>\n",
       "      <th>1</th>\n",
       "      <td>2014</td>\n",
       "      <td>3.7</td>\n",
       "    </tr>\n",
       "    <tr>\n",
       "      <th>2</th>\n",
       "      <td>2015</td>\n",
       "      <td>4.2</td>\n",
       "    </tr>\n",
       "    <tr>\n",
       "      <th>3</th>\n",
       "      <td>2016</td>\n",
       "      <td>5.3</td>\n",
       "    </tr>\n",
       "    <tr>\n",
       "      <th>4</th>\n",
       "      <td>2017</td>\n",
       "      <td>6.2</td>\n",
       "    </tr>\n",
       "    <tr>\n",
       "      <th>5</th>\n",
       "      <td>2018</td>\n",
       "      <td>7.3</td>\n",
       "    </tr>\n",
       "    <tr>\n",
       "      <th>6</th>\n",
       "      <td>2019</td>\n",
       "      <td>8.5</td>\n",
       "    </tr>\n",
       "  </tbody>\n",
       "</table>\n",
       "</div>"
      ],
      "text/plain": [
       "   Year Number of People Vaping(million)\n",
       "0  2013                              2.6\n",
       "1  2014                              3.7\n",
       "2  2015                              4.2\n",
       "3  2016                              5.3\n",
       "4  2017                              6.2\n",
       "5  2018                              7.3\n",
       "6  2019                              8.5"
      ]
     },
     "execution_count": 2,
     "metadata": {},
     "output_type": "execute_result"
    }
   ],
   "source": [
    "#DATA PREPROCESSING\n",
    "#extracting data from datafile\n",
    "with open(\"Vapers-2013-2021.csv\") as users:\n",
    "    userR = csv.reader(users,delimiter=\",\")\n",
    "    userL = [] #data list\n",
    "    for column in userR:\n",
    "        userL.append(column[0:2]) #filling the list\n",
    "    #preprocess \n",
    "    #removing data after year 2019\n",
    "    header = userL[0]\n",
    "    userL.remove(userL[0]) #removing header\n",
    "    #2019-2013 = 7 pieces of data\n",
    "    userL = userL[:7]\n",
    "    user_df = pd.DataFrame(data=userL, columns=header)\n",
    "    \n",
    "user_df"
   ]
  },
  {
   "cell_type": "markdown",
   "id": "b20dcac8",
   "metadata": {},
   "source": [
    "<h1>Users Statistical Data</h1>"
   ]
  },
  {
   "cell_type": "code",
   "execution_count": 3,
   "id": "d602f4c8",
   "metadata": {},
   "outputs": [
    {
     "data": {
      "text/html": [
       "<div>\n",
       "<style scoped>\n",
       "    .dataframe tbody tr th:only-of-type {\n",
       "        vertical-align: middle;\n",
       "    }\n",
       "\n",
       "    .dataframe tbody tr th {\n",
       "        vertical-align: top;\n",
       "    }\n",
       "\n",
       "    .dataframe thead th {\n",
       "        text-align: right;\n",
       "    }\n",
       "</style>\n",
       "<table border=\"1\" class=\"dataframe\">\n",
       "  <thead>\n",
       "    <tr style=\"text-align: right;\">\n",
       "      <th></th>\n",
       "      <th>Year</th>\n",
       "      <th>Number of People Vaping(million)</th>\n",
       "    </tr>\n",
       "  </thead>\n",
       "  <tbody>\n",
       "    <tr>\n",
       "      <th>count</th>\n",
       "      <td>7</td>\n",
       "      <td>7.000000</td>\n",
       "    </tr>\n",
       "    <tr>\n",
       "      <th>unique</th>\n",
       "      <td>7</td>\n",
       "      <td>NaN</td>\n",
       "    </tr>\n",
       "    <tr>\n",
       "      <th>top</th>\n",
       "      <td>2013</td>\n",
       "      <td>NaN</td>\n",
       "    </tr>\n",
       "    <tr>\n",
       "      <th>freq</th>\n",
       "      <td>1</td>\n",
       "      <td>NaN</td>\n",
       "    </tr>\n",
       "    <tr>\n",
       "      <th>mean</th>\n",
       "      <td>NaN</td>\n",
       "      <td>5.400000</td>\n",
       "    </tr>\n",
       "    <tr>\n",
       "      <th>std</th>\n",
       "      <td>NaN</td>\n",
       "      <td>2.083267</td>\n",
       "    </tr>\n",
       "    <tr>\n",
       "      <th>min</th>\n",
       "      <td>NaN</td>\n",
       "      <td>2.600000</td>\n",
       "    </tr>\n",
       "    <tr>\n",
       "      <th>25%</th>\n",
       "      <td>NaN</td>\n",
       "      <td>3.950000</td>\n",
       "    </tr>\n",
       "    <tr>\n",
       "      <th>50%</th>\n",
       "      <td>NaN</td>\n",
       "      <td>5.300000</td>\n",
       "    </tr>\n",
       "    <tr>\n",
       "      <th>75%</th>\n",
       "      <td>NaN</td>\n",
       "      <td>6.750000</td>\n",
       "    </tr>\n",
       "    <tr>\n",
       "      <th>max</th>\n",
       "      <td>NaN</td>\n",
       "      <td>8.500000</td>\n",
       "    </tr>\n",
       "  </tbody>\n",
       "</table>\n",
       "</div>"
      ],
      "text/plain": [
       "        Year  Number of People Vaping(million)\n",
       "count      7                          7.000000\n",
       "unique     7                               NaN\n",
       "top     2013                               NaN\n",
       "freq       1                               NaN\n",
       "mean     NaN                          5.400000\n",
       "std      NaN                          2.083267\n",
       "min      NaN                          2.600000\n",
       "25%      NaN                          3.950000\n",
       "50%      NaN                          5.300000\n",
       "75%      NaN                          6.750000\n",
       "max      NaN                          8.500000"
      ]
     },
     "execution_count": 3,
     "metadata": {},
     "output_type": "execute_result"
    }
   ],
   "source": [
    "#converting data types\n",
    "user_df[\"Number of People Vaping(million)\"]  = pd.to_numeric(user_df[\"Number of People Vaping(million)\"])\n",
    "\n",
    "user_df.describe(include = 'all')"
   ]
  },
  {
   "cell_type": "markdown",
   "id": "6387b315",
   "metadata": {},
   "source": [
    "<h1>Deaths Yearly 2013-2019</h1>"
   ]
  },
  {
   "cell_type": "code",
   "execution_count": 4,
   "id": "8b29fa63",
   "metadata": {},
   "outputs": [
    {
     "data": {
      "text/html": [
       "<div>\n",
       "<style scoped>\n",
       "    .dataframe tbody tr th:only-of-type {\n",
       "        vertical-align: middle;\n",
       "    }\n",
       "\n",
       "    .dataframe tbody tr th {\n",
       "        vertical-align: top;\n",
       "    }\n",
       "\n",
       "    .dataframe thead th {\n",
       "        text-align: right;\n",
       "    }\n",
       "</style>\n",
       "<table border=\"1\" class=\"dataframe\">\n",
       "  <thead>\n",
       "    <tr style=\"text-align: right;\">\n",
       "      <th></th>\n",
       "      <th>Year</th>\n",
       "      <th>MCD - ICD-10 113 Cause List</th>\n",
       "      <th>MCD - ICD-10 113 Cause List Code</th>\n",
       "      <th>Deaths</th>\n",
       "      <th>Population</th>\n",
       "      <th>Crude Rate</th>\n",
       "    </tr>\n",
       "  </thead>\n",
       "  <tbody>\n",
       "    <tr>\n",
       "      <th>0</th>\n",
       "      <td>2013</td>\n",
       "      <td>Major cardiovascular diseases (I00-I78)</td>\n",
       "      <td>GR113-053</td>\n",
       "      <td>796494</td>\n",
       "      <td>316128839</td>\n",
       "      <td>252.0</td>\n",
       "    </tr>\n",
       "    <tr>\n",
       "      <th>1</th>\n",
       "      <td>2014</td>\n",
       "      <td>Major cardiovascular diseases (I00-I78)</td>\n",
       "      <td>GR113-053</td>\n",
       "      <td>803227</td>\n",
       "      <td>318857056</td>\n",
       "      <td>251.9</td>\n",
       "    </tr>\n",
       "    <tr>\n",
       "      <th>2</th>\n",
       "      <td>2015</td>\n",
       "      <td>Major cardiovascular diseases (I00-I78)</td>\n",
       "      <td>GR113-053</td>\n",
       "      <td>832024</td>\n",
       "      <td>321418820</td>\n",
       "      <td>258.9</td>\n",
       "    </tr>\n",
       "    <tr>\n",
       "      <th>3</th>\n",
       "      <td>2016</td>\n",
       "      <td>Major cardiovascular diseases (I00-I78)</td>\n",
       "      <td>GR113-053</td>\n",
       "      <td>835947</td>\n",
       "      <td>323127513</td>\n",
       "      <td>258.7</td>\n",
       "    </tr>\n",
       "    <tr>\n",
       "      <th>4</th>\n",
       "      <td>2017</td>\n",
       "      <td>Major cardiovascular diseases (I00-I78)</td>\n",
       "      <td>GR113-053</td>\n",
       "      <td>854390</td>\n",
       "      <td>325719178</td>\n",
       "      <td>262.3</td>\n",
       "    </tr>\n",
       "    <tr>\n",
       "      <th>5</th>\n",
       "      <td>2018</td>\n",
       "      <td>Major cardiovascular diseases (I00-I78)</td>\n",
       "      <td>GR113-053</td>\n",
       "      <td>863834</td>\n",
       "      <td>327167434</td>\n",
       "      <td>264.0</td>\n",
       "    </tr>\n",
       "    <tr>\n",
       "      <th>6</th>\n",
       "      <td>2019</td>\n",
       "      <td>Major cardiovascular diseases (I00-I78)</td>\n",
       "      <td>GR113-053</td>\n",
       "      <td>869883</td>\n",
       "      <td>328239523</td>\n",
       "      <td>265.0</td>\n",
       "    </tr>\n",
       "  </tbody>\n",
       "</table>\n",
       "</div>"
      ],
      "text/plain": [
       "   Year              MCD - ICD-10 113 Cause List  \\\n",
       "0  2013  Major cardiovascular diseases (I00-I78)   \n",
       "1  2014  Major cardiovascular diseases (I00-I78)   \n",
       "2  2015  Major cardiovascular diseases (I00-I78)   \n",
       "3  2016  Major cardiovascular diseases (I00-I78)   \n",
       "4  2017  Major cardiovascular diseases (I00-I78)   \n",
       "5  2018  Major cardiovascular diseases (I00-I78)   \n",
       "6  2019  Major cardiovascular diseases (I00-I78)   \n",
       "\n",
       "  MCD - ICD-10 113 Cause List Code  Deaths Population Crude Rate  \n",
       "0                        GR113-053  796494  316128839      252.0  \n",
       "1                        GR113-053  803227  318857056      251.9  \n",
       "2                        GR113-053  832024  321418820      258.9  \n",
       "3                        GR113-053  835947  323127513      258.7  \n",
       "4                        GR113-053  854390  325719178      262.3  \n",
       "5                        GR113-053  863834  327167434      264.0  \n",
       "6                        GR113-053  869883  328239523      265.0  "
      ]
     },
     "execution_count": 4,
     "metadata": {},
     "output_type": "execute_result"
    }
   ],
   "source": [
    "#DATA PREPROCESSING\n",
    "#extracting data from datafile\n",
    "with open(\"CardiovascularRates.csv\") as death:\n",
    "    deathR = csv.reader(death,quotechar='\"')\n",
    "    deathL = [] #data list\n",
    "    for column in deathR:\n",
    "        deathL.append(column) #All data\n",
    "        \n",
    "    header = deathL[0]\n",
    "    deathL.remove(deathL[0])\n",
    "    deaths_df = pd.DataFrame(deathL,columns=header)\n",
    "deaths_df"
   ]
  },
  {
   "cell_type": "markdown",
   "id": "f52b8b65",
   "metadata": {},
   "source": [
    "<h1>Crud Rate Statistical Data</h1>"
   ]
  },
  {
   "cell_type": "code",
   "execution_count": 5,
   "id": "abb82cd6",
   "metadata": {},
   "outputs": [
    {
     "data": {
      "text/html": [
       "<div>\n",
       "<style scoped>\n",
       "    .dataframe tbody tr th:only-of-type {\n",
       "        vertical-align: middle;\n",
       "    }\n",
       "\n",
       "    .dataframe tbody tr th {\n",
       "        vertical-align: top;\n",
       "    }\n",
       "\n",
       "    .dataframe thead th {\n",
       "        text-align: right;\n",
       "    }\n",
       "</style>\n",
       "<table border=\"1\" class=\"dataframe\">\n",
       "  <thead>\n",
       "    <tr style=\"text-align: right;\">\n",
       "      <th></th>\n",
       "      <th>Year</th>\n",
       "      <th>MCD - ICD-10 113 Cause List</th>\n",
       "      <th>MCD - ICD-10 113 Cause List Code</th>\n",
       "      <th>Deaths</th>\n",
       "      <th>Population</th>\n",
       "      <th>Crude Rate</th>\n",
       "    </tr>\n",
       "  </thead>\n",
       "  <tbody>\n",
       "    <tr>\n",
       "      <th>count</th>\n",
       "      <td>7</td>\n",
       "      <td>7</td>\n",
       "      <td>7</td>\n",
       "      <td>7.000000</td>\n",
       "      <td>7.000000e+00</td>\n",
       "      <td>7.000000</td>\n",
       "    </tr>\n",
       "    <tr>\n",
       "      <th>unique</th>\n",
       "      <td>7</td>\n",
       "      <td>1</td>\n",
       "      <td>1</td>\n",
       "      <td>NaN</td>\n",
       "      <td>NaN</td>\n",
       "      <td>NaN</td>\n",
       "    </tr>\n",
       "    <tr>\n",
       "      <th>top</th>\n",
       "      <td>2013</td>\n",
       "      <td>Major cardiovascular diseases (I00-I78)</td>\n",
       "      <td>GR113-053</td>\n",
       "      <td>NaN</td>\n",
       "      <td>NaN</td>\n",
       "      <td>NaN</td>\n",
       "    </tr>\n",
       "    <tr>\n",
       "      <th>freq</th>\n",
       "      <td>1</td>\n",
       "      <td>7</td>\n",
       "      <td>7</td>\n",
       "      <td>NaN</td>\n",
       "      <td>NaN</td>\n",
       "      <td>NaN</td>\n",
       "    </tr>\n",
       "    <tr>\n",
       "      <th>mean</th>\n",
       "      <td>NaN</td>\n",
       "      <td>NaN</td>\n",
       "      <td>NaN</td>\n",
       "      <td>836542.714286</td>\n",
       "      <td>3.229512e+08</td>\n",
       "      <td>258.971429</td>\n",
       "    </tr>\n",
       "    <tr>\n",
       "      <th>std</th>\n",
       "      <td>NaN</td>\n",
       "      <td>NaN</td>\n",
       "      <td>NaN</td>\n",
       "      <td>28605.140923</td>\n",
       "      <td>4.455158e+06</td>\n",
       "      <td>5.344690</td>\n",
       "    </tr>\n",
       "    <tr>\n",
       "      <th>min</th>\n",
       "      <td>NaN</td>\n",
       "      <td>NaN</td>\n",
       "      <td>NaN</td>\n",
       "      <td>796494.000000</td>\n",
       "      <td>3.161288e+08</td>\n",
       "      <td>251.900000</td>\n",
       "    </tr>\n",
       "    <tr>\n",
       "      <th>25%</th>\n",
       "      <td>NaN</td>\n",
       "      <td>NaN</td>\n",
       "      <td>NaN</td>\n",
       "      <td>817625.500000</td>\n",
       "      <td>3.201379e+08</td>\n",
       "      <td>255.350000</td>\n",
       "    </tr>\n",
       "    <tr>\n",
       "      <th>50%</th>\n",
       "      <td>NaN</td>\n",
       "      <td>NaN</td>\n",
       "      <td>NaN</td>\n",
       "      <td>835947.000000</td>\n",
       "      <td>3.231275e+08</td>\n",
       "      <td>258.900000</td>\n",
       "    </tr>\n",
       "    <tr>\n",
       "      <th>75%</th>\n",
       "      <td>NaN</td>\n",
       "      <td>NaN</td>\n",
       "      <td>NaN</td>\n",
       "      <td>859112.000000</td>\n",
       "      <td>3.264433e+08</td>\n",
       "      <td>263.150000</td>\n",
       "    </tr>\n",
       "    <tr>\n",
       "      <th>max</th>\n",
       "      <td>NaN</td>\n",
       "      <td>NaN</td>\n",
       "      <td>NaN</td>\n",
       "      <td>869883.000000</td>\n",
       "      <td>3.282395e+08</td>\n",
       "      <td>265.000000</td>\n",
       "    </tr>\n",
       "  </tbody>\n",
       "</table>\n",
       "</div>"
      ],
      "text/plain": [
       "        Year              MCD - ICD-10 113 Cause List  \\\n",
       "count      7                                        7   \n",
       "unique     7                                        1   \n",
       "top     2013  Major cardiovascular diseases (I00-I78)   \n",
       "freq       1                                        7   \n",
       "mean     NaN                                      NaN   \n",
       "std      NaN                                      NaN   \n",
       "min      NaN                                      NaN   \n",
       "25%      NaN                                      NaN   \n",
       "50%      NaN                                      NaN   \n",
       "75%      NaN                                      NaN   \n",
       "max      NaN                                      NaN   \n",
       "\n",
       "       MCD - ICD-10 113 Cause List Code         Deaths    Population  \\\n",
       "count                                 7       7.000000  7.000000e+00   \n",
       "unique                                1            NaN           NaN   \n",
       "top                           GR113-053            NaN           NaN   \n",
       "freq                                  7            NaN           NaN   \n",
       "mean                                NaN  836542.714286  3.229512e+08   \n",
       "std                                 NaN   28605.140923  4.455158e+06   \n",
       "min                                 NaN  796494.000000  3.161288e+08   \n",
       "25%                                 NaN  817625.500000  3.201379e+08   \n",
       "50%                                 NaN  835947.000000  3.231275e+08   \n",
       "75%                                 NaN  859112.000000  3.264433e+08   \n",
       "max                                 NaN  869883.000000  3.282395e+08   \n",
       "\n",
       "        Crude Rate  \n",
       "count     7.000000  \n",
       "unique         NaN  \n",
       "top            NaN  \n",
       "freq           NaN  \n",
       "mean    258.971429  \n",
       "std       5.344690  \n",
       "min     251.900000  \n",
       "25%     255.350000  \n",
       "50%     258.900000  \n",
       "75%     263.150000  \n",
       "max     265.000000  "
      ]
     },
     "execution_count": 5,
     "metadata": {},
     "output_type": "execute_result"
    }
   ],
   "source": [
    "#Deaths, Populations and Crude Rate\n",
    "#converting data types\n",
    "deaths_df[\"Deaths\"]  = pd.to_numeric(deaths_df[\"Deaths\"])\n",
    "deaths_df[\"Population\"] = pd.to_numeric(deaths_df[\"Population\"])\n",
    "deaths_df[\"Crude Rate\"] = pd.to_numeric(deaths_df[\"Crude Rate\"])\n",
    "\n",
    "deaths_df.describe(include = 'all')"
   ]
  },
  {
   "cell_type": "markdown",
   "id": "b55c8a56",
   "metadata": {},
   "source": [
    "<h1> VISUALIZATIONS </h1>"
   ]
  },
  {
   "cell_type": "code",
   "execution_count": 86,
   "id": "5cc7cbcf",
   "metadata": {},
   "outputs": [
    {
     "data": {
      "text/plain": [
       "Text(0.5, 1.0, 'User vs Year')"
      ]
     },
     "execution_count": 86,
     "metadata": {},
     "output_type": "execute_result"
    },
    {
     "data": {
      "image/png": "[encoded data removed]",
      "text/plain": [
       "<Figure size 432x288 with 1 Axes>"
      ]
     },
     "metadata": {
      "needs_background": "light"
     },
     "output_type": "display_data"
    },
    {
     "data": {
      "image/png": "[encoded data removed]",
      "text/plain": [
       "<Figure size 432x288 with 1 Axes>"
      ]
     },
     "metadata": {
      "needs_background": "light"
     },
     "output_type": "display_data"
    }
   ],
   "source": [
    "deaths_df.plot(x='Year', y='Crude Rate')\n",
    "plt.title('CrudeRate vs Year')\n",
    "user_df.plot(x='Year', y='Number of People Vaping(million)')\n",
    "plt.title('User vs Year')"
   ]
  },
  {
   "cell_type": "code",
   "execution_count": 31,
   "id": "9c872ab0",
   "metadata": {},
   "outputs": [
    {
     "data": {
      "image/png": "[encoded data removed]",
      "text/plain": [
       "<Figure size 432x288 with 1 Axes>"
      ]
     },
     "metadata": {
      "needs_background": "light"
     },
     "output_type": "display_data"
    }
   ],
   "source": [
    "CrudeRate = deaths_df.loc[:,\"Crude Rate\"]\n",
    "Users = user_df.loc[:,\"Number of People Vaping(million)\"]\n",
    "plt.plot(CrudeRate,Users,marker='o')\n",
    "plt.title('CrudeRate vs Users')\n",
    "plt.xlabel('Users')\n",
    "plt.ylabel('CrudeRate')\n",
    "plt.show()"
   ]
  },
  {
   "cell_type": "markdown",
   "id": "0494ec70",
   "metadata": {},
   "source": [
    "<h1>REGRESSION MODEL</h1>"
   ]
  },
  {
   "cell_type": "code",
   "execution_count": 58,
   "id": "31777ccb",
   "metadata": {},
   "outputs": [
    {
     "name": "stdout",
     "output_type": "stream",
     "text": [
      "intercept: 245.99815668202766\n",
      "slope: [2.40245776]\n"
     ]
    },
    {
     "data": {
      "text/plain": [
       "array([252. , 251.9, 258.9, 258.7, 262.3, 264. , 265. ])"
      ]
     },
     "execution_count": 58,
     "metadata": {},
     "output_type": "execute_result"
    }
   ],
   "source": [
    "from sklearn.linear_model import LinearRegression\n",
    "model = LinearRegression(fit_intercept =True)\n",
    "\n",
    "x= user_df.loc[:,\"Number of People Vaping(million)\"].values\n",
    "x= x.reshape(-1, 1)\n",
    "y= deaths_df.loc[:,\"Crude Rate\"].values\n",
    "model.fit(x,y)\n",
    "\n",
    "print(f\"intercept: {model.intercept_}\")\n",
    "print(f\"slope: {model.coef_}\")\n",
    "\n",
    "# # Using future data that was removed test regression models RMSE\n",
    "# y_pred = model.predict(x)\n",
    "# print(f\"predicted crude rate:\\n{y_pred}\")\n"
   ]
  },
  {
   "cell_type": "markdown",
   "id": "4ad36240",
   "metadata": {},
   "source": [
    "<h1>Prediction Test</h1>"
   ]
  },
  {
   "cell_type": "code",
   "execution_count": 78,
   "id": "ab14990c",
   "metadata": {},
   "outputs": [
    {
     "data": {
      "text/plain": [
       "array([263.53609831, 266.41904762, 319.39324117, 378.13333333])"
      ]
     },
     "execution_count": 78,
     "metadata": {},
     "output_type": "execute_result"
    }
   ],
   "source": [
    "#DATA PREPROCESSING\n",
    "#extracting data from datafile\n",
    "with open(\"Vapers-2013-2021.csv\") as new:\n",
    "    newR = csv.reader(new,delimiter=\",\")\n",
    "    newL = [] #data list\n",
    "    for column in newR:\n",
    "        newL.append(column[0:2]) #filling the list\n",
    "    #preprocess \n",
    "    #removing data after year 2019\n",
    "    header = newL[0]\n",
    "    newL.remove(newL[0]) #removing header\n",
    "    new_df = pd.DataFrame(data=newL, columns=header)\n",
    "new_df[\"Number of People Vaping(million)\"]  = pd.to_numeric(new_df[\"Number of People Vaping(million)\"])\n",
    "                                                                   \n",
    "x_new = new_df.loc[:,\"Number of People Vaping(million)\"].values\n",
    "x_new = x_new.reshape(-1, 1)\n",
    "x_actual = x_new[4:8]\n",
    "y_predict = model.predict(x_new)\n",
    "y_predict = y_predict[5:9]\n",
    "y_predict\n",
    "#plt.plot(x_new,y_new)"
   ]
  },
  {
   "cell_type": "code",
   "execution_count": 79,
   "id": "5c80ccd6",
   "metadata": {},
   "outputs": [],
   "source": [
    "#DATA PREPROCESSING\n",
    "#extracting data from datafile\n",
    "with open(\"unseen.csv\") as unseen:\n",
    "    unseenR = csv.reader(unseen,quotechar='\"')\n",
    "    unseenL = [] #data list\n",
    "    for column in unseenR:\n",
    "        unseenL.append(column) #All data\n",
    "        \n",
    "    header = unseenL[0]\n",
    "    unseenL.remove(unseenL[0])\n",
    "    unseen_df = pd.DataFrame(unseenL,columns=header)\n",
    "unseen_df[\"Crude Rate\"] = pd.to_numeric(unseen_df[\"Crude Rate\"])\n",
    "y_actual = unseen_df.loc[:,\"Crude Rate\"].values\n",
    "x_actual = x_new[4:8]"
   ]
  },
  {
   "cell_type": "code",
   "execution_count": 80,
   "id": "a661d3b7",
   "metadata": {},
   "outputs": [
    {
     "name": "stdout",
     "output_type": "stream",
     "text": [
      "56.02888137579683\n"
     ]
    }
   ],
   "source": [
    "from sklearn import metrics\n",
    "print(np.sqrt(metrics.mean_squared_error(y_actual,y_predict)))"
   ]
  },
  {
   "cell_type": "code",
   "execution_count": 85,
   "id": "5cd6c247",
   "metadata": {},
   "outputs": [
    {
     "data": {
      "text/plain": [
       "[<matplotlib.lines.Line2D at 0x1d57eef1910>]"
      ]
     },
     "execution_count": 85,
     "metadata": {},
     "output_type": "execute_result"
    },
    {
     "data": {
      "image/png": "[encoded data removed]",
      "text/plain": [
       "<Figure size 432x288 with 1 Axes>"
      ]
     },
     "metadata": {
      "needs_background": "light"
     },
     "output_type": "display_data"
    }
   ],
   "source": [
    "plt.scatter(x,y, marker='^')\n",
    "plt.plot(x_actual,y_actual)"
   ]
  },
  {
   "cell_type": "code",
   "execution_count": null,
   "id": "e5a7587a",
   "metadata": {},
   "outputs": [],
   "source": []
  }
 ],
 "metadata": {
  "kernelspec": {
   "display_name": "Python 3 (ipykernel)",
   "language": "python",
   "name": "python3"
  },
  "language_info": {
   "codemirror_mode": {
    "name": "ipython",
    "version": 3
   },
   "file_extension": ".py",
   "mimetype": "text/x-python",
   "name": "python",
   "nbconvert_exporter": "python",
   "pygments_lexer": "ipython3",
   "version": "3.9.12"
  }
 },
 "nbformat": 4,
 "nbformat_minor": 5
}
